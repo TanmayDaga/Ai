{
  "nbformat": 4,
  "nbformat_minor": 5,
  "metadata": {
    "interpreter": {
      "hash": "082e9a3bcad0a290d0001e938aa60b99250c6c2ef33a923c00b70f9826caf4b7"
    },
    "kernelspec": {
      "display_name": "Python 3",
      "language": "python",
      "name": "python3"
    },
    "language_info": {
      "codemirror_mode": {
        "name": "ipython",
        "version": 3
      },
      "file_extension": ".py",
      "mimetype": "text/x-python",
      "name": "python",
      "nbconvert_exporter": "python",
      "pygments_lexer": "ipython3",
      "version": "3.8.8"
    },
    "colab": {
      "name": "Untitled.ipynb",
      "provenance": [],
      "collapsed_sections": []
    }
  },
  "cells": [
    {
      "cell_type": "markdown",
      "metadata": {
        "id": "miSFsXN3Z6J8"
      },
      "source": [
        "## Heart Failure Prediction"
      ],
      "id": "miSFsXN3Z6J8"
    },
    {
      "cell_type": "markdown",
      "metadata": {
        "id": "Zuv9i4v7mmmr"
      },
      "source": [
        "Installing and importing necessary modules"
      ],
      "id": "Zuv9i4v7mmmr"
    },
    {
      "cell_type": "code",
      "metadata": {
        "id": "eIeZWMW-FJmx",
        "colab": {
          "base_uri": "https://localhost:8080/"
        },
        "outputId": "65215f25-0f4a-41f6-9b2d-9822fd6d7f97"
      },
      "source": [
        "!pip install tensorflowjs  pandas tensorflow numpy matplotlib"
      ],
      "id": "eIeZWMW-FJmx",
      "execution_count": null,
      "outputs": [
        {
          "output_type": "stream",
          "name": "stdout",
          "text": [
            "Requirement already satisfied: tensorflowjs in /usr/local/lib/python3.7/dist-packages (3.11.0)\n",
            "Requirement already satisfied: pandas in /usr/local/lib/python3.7/dist-packages (1.1.5)\n",
            "Requirement already satisfied: tensorflow in /usr/local/lib/python3.7/dist-packages (2.6.0)\n",
            "Requirement already satisfied: numpy in /usr/local/lib/python3.7/dist-packages (1.19.5)\n",
            "Requirement already satisfied: matplotlib in /usr/local/lib/python3.7/dist-packages (3.2.2)\n",
            "Requirement already satisfied: tensorflow-hub<0.13,>=0.7.0 in /usr/local/lib/python3.7/dist-packages (from tensorflowjs) (0.12.0)\n",
            "Requirement already satisfied: six<2,>=1.12.0 in /usr/local/lib/python3.7/dist-packages (from tensorflowjs) (1.15.0)\n",
            "Requirement already satisfied: astunparse~=1.6.3 in /usr/local/lib/python3.7/dist-packages (from tensorflow) (1.6.3)\n",
            "Requirement already satisfied: wrapt~=1.12.1 in /usr/local/lib/python3.7/dist-packages (from tensorflow) (1.12.1)\n",
            "Requirement already satisfied: termcolor~=1.1.0 in /usr/local/lib/python3.7/dist-packages (from tensorflow) (1.1.0)\n",
            "Requirement already satisfied: keras~=2.6 in /usr/local/lib/python3.7/dist-packages (from tensorflow) (2.6.0)\n",
            "Requirement already satisfied: google-pasta~=0.2 in /usr/local/lib/python3.7/dist-packages (from tensorflow) (0.2.0)\n",
            "Requirement already satisfied: typing-extensions~=3.7.4 in /usr/local/lib/python3.7/dist-packages (from tensorflow) (3.7.4.3)\n",
            "Requirement already satisfied: grpcio<2.0,>=1.37.0 in /usr/local/lib/python3.7/dist-packages (from tensorflow) (1.41.0)\n",
            "Requirement already satisfied: keras-preprocessing~=1.1.2 in /usr/local/lib/python3.7/dist-packages (from tensorflow) (1.1.2)\n",
            "Requirement already satisfied: h5py~=3.1.0 in /usr/local/lib/python3.7/dist-packages (from tensorflow) (3.1.0)\n",
            "Requirement already satisfied: protobuf>=3.9.2 in /usr/local/lib/python3.7/dist-packages (from tensorflow) (3.17.3)\n",
            "Requirement already satisfied: absl-py~=0.10 in /usr/local/lib/python3.7/dist-packages (from tensorflow) (0.12.0)\n",
            "Requirement already satisfied: clang~=5.0 in /usr/local/lib/python3.7/dist-packages (from tensorflow) (5.0)\n",
            "Requirement already satisfied: tensorboard~=2.6 in /usr/local/lib/python3.7/dist-packages (from tensorflow) (2.6.0)\n",
            "Requirement already satisfied: gast==0.4.0 in /usr/local/lib/python3.7/dist-packages (from tensorflow) (0.4.0)\n",
            "Requirement already satisfied: wheel~=0.35 in /usr/local/lib/python3.7/dist-packages (from tensorflow) (0.37.0)\n",
            "Requirement already satisfied: tensorflow-estimator~=2.6 in /usr/local/lib/python3.7/dist-packages (from tensorflow) (2.6.0)\n",
            "Requirement already satisfied: flatbuffers~=1.12.0 in /usr/local/lib/python3.7/dist-packages (from tensorflow) (1.12)\n",
            "Requirement already satisfied: opt-einsum~=3.3.0 in /usr/local/lib/python3.7/dist-packages (from tensorflow) (3.3.0)\n",
            "Requirement already satisfied: cached-property in /usr/local/lib/python3.7/dist-packages (from h5py~=3.1.0->tensorflow) (1.5.2)\n",
            "Requirement already satisfied: google-auth<2,>=1.6.3 in /usr/local/lib/python3.7/dist-packages (from tensorboard~=2.6->tensorflow) (1.35.0)\n",
            "Requirement already satisfied: werkzeug>=0.11.15 in /usr/local/lib/python3.7/dist-packages (from tensorboard~=2.6->tensorflow) (1.0.1)\n",
            "Requirement already satisfied: requests<3,>=2.21.0 in /usr/local/lib/python3.7/dist-packages (from tensorboard~=2.6->tensorflow) (2.23.0)\n",
            "Requirement already satisfied: setuptools>=41.0.0 in /usr/local/lib/python3.7/dist-packages (from tensorboard~=2.6->tensorflow) (57.4.0)\n",
            "Requirement already satisfied: tensorboard-plugin-wit>=1.6.0 in /usr/local/lib/python3.7/dist-packages (from tensorboard~=2.6->tensorflow) (1.8.0)\n",
            "Requirement already satisfied: google-auth-oauthlib<0.5,>=0.4.1 in /usr/local/lib/python3.7/dist-packages (from tensorboard~=2.6->tensorflow) (0.4.6)\n",
            "Requirement already satisfied: tensorboard-data-server<0.7.0,>=0.6.0 in /usr/local/lib/python3.7/dist-packages (from tensorboard~=2.6->tensorflow) (0.6.1)\n",
            "Requirement already satisfied: markdown>=2.6.8 in /usr/local/lib/python3.7/dist-packages (from tensorboard~=2.6->tensorflow) (3.3.4)\n",
            "Requirement already satisfied: rsa<5,>=3.1.4 in /usr/local/lib/python3.7/dist-packages (from google-auth<2,>=1.6.3->tensorboard~=2.6->tensorflow) (4.7.2)\n",
            "Requirement already satisfied: cachetools<5.0,>=2.0.0 in /usr/local/lib/python3.7/dist-packages (from google-auth<2,>=1.6.3->tensorboard~=2.6->tensorflow) (4.2.4)\n",
            "Requirement already satisfied: pyasn1-modules>=0.2.1 in /usr/local/lib/python3.7/dist-packages (from google-auth<2,>=1.6.3->tensorboard~=2.6->tensorflow) (0.2.8)\n",
            "Requirement already satisfied: requests-oauthlib>=0.7.0 in /usr/local/lib/python3.7/dist-packages (from google-auth-oauthlib<0.5,>=0.4.1->tensorboard~=2.6->tensorflow) (1.3.0)\n",
            "Requirement already satisfied: importlib-metadata in /usr/local/lib/python3.7/dist-packages (from markdown>=2.6.8->tensorboard~=2.6->tensorflow) (4.8.1)\n",
            "Requirement already satisfied: pyasn1<0.5.0,>=0.4.6 in /usr/local/lib/python3.7/dist-packages (from pyasn1-modules>=0.2.1->google-auth<2,>=1.6.3->tensorboard~=2.6->tensorflow) (0.4.8)\n",
            "Requirement already satisfied: idna<3,>=2.5 in /usr/local/lib/python3.7/dist-packages (from requests<3,>=2.21.0->tensorboard~=2.6->tensorflow) (2.10)\n",
            "Requirement already satisfied: chardet<4,>=3.0.2 in /usr/local/lib/python3.7/dist-packages (from requests<3,>=2.21.0->tensorboard~=2.6->tensorflow) (3.0.4)\n",
            "Requirement already satisfied: urllib3!=1.25.0,!=1.25.1,<1.26,>=1.21.1 in /usr/local/lib/python3.7/dist-packages (from requests<3,>=2.21.0->tensorboard~=2.6->tensorflow) (1.24.3)\n",
            "Requirement already satisfied: certifi>=2017.4.17 in /usr/local/lib/python3.7/dist-packages (from requests<3,>=2.21.0->tensorboard~=2.6->tensorflow) (2021.5.30)\n",
            "Requirement already satisfied: oauthlib>=3.0.0 in /usr/local/lib/python3.7/dist-packages (from requests-oauthlib>=0.7.0->google-auth-oauthlib<0.5,>=0.4.1->tensorboard~=2.6->tensorflow) (3.1.1)\n",
            "Requirement already satisfied: pytz>=2017.2 in /usr/local/lib/python3.7/dist-packages (from pandas) (2018.9)\n",
            "Requirement already satisfied: python-dateutil>=2.7.3 in /usr/local/lib/python3.7/dist-packages (from pandas) (2.8.2)\n",
            "Requirement already satisfied: kiwisolver>=1.0.1 in /usr/local/lib/python3.7/dist-packages (from matplotlib) (1.3.2)\n",
            "Requirement already satisfied: pyparsing!=2.0.4,!=2.1.2,!=2.1.6,>=2.0.1 in /usr/local/lib/python3.7/dist-packages (from matplotlib) (2.4.7)\n",
            "Requirement already satisfied: cycler>=0.10 in /usr/local/lib/python3.7/dist-packages (from matplotlib) (0.10.0)\n",
            "Requirement already satisfied: zipp>=0.5 in /usr/local/lib/python3.7/dist-packages (from importlib-metadata->markdown>=2.6.8->tensorboard~=2.6->tensorflow) (3.6.0)\n"
          ]
        }
      ]
    },
    {
      "cell_type": "code",
      "metadata": {
        "id": "YLqDq-vSa5s7"
      },
      "source": [
        "import pandas as pd\n",
        "import numpy as np\n",
        "import tensorflow as tf\n",
        "from tensorflow.keras.layers import Dense\n",
        "import tensorflowjs as tfjs\n",
        "import matplotlib as mp"
      ],
      "id": "YLqDq-vSa5s7",
      "execution_count": null,
      "outputs": []
    },
    {
      "cell_type": "markdown",
      "metadata": {
        "id": "RlROhxzpm_cb"
      },
      "source": [
        "Reading and arranging the data"
      ],
      "id": "RlROhxzpm_cb"
    },
    {
      "cell_type": "code",
      "metadata": {
        "id": "hqIj5RM1FAWJ"
      },
      "source": [
        "df = pd.read_csv('data.csv', header=None,skipinitialspace=True,skiprows=1)"
      ],
      "id": "hqIj5RM1FAWJ",
      "execution_count": null,
      "outputs": []
    },
    {
      "cell_type": "code",
      "metadata": {
        "id": "XZFfX5KiFAWL"
      },
      "source": [
        "# Renaming the columns from numbers to meaningful names\n",
        "df.rename(columns = {0:\"age\", \n",
        "                     1:\"anaemia\", \n",
        "                     2:\"creatinine_phosphokinase\",\n",
        "                     3:\"diabetes\",\n",
        "                     4:\"ejection_fraction\",\n",
        "                     5:\"high_blood_pressure\",\n",
        "                     6:\"platelets\",\n",
        "                     7:\"serum_creatinine\",\n",
        "                     8:\"serum_sodium\",\n",
        "                     9:\"sex\",\n",
        "                     10:\"smoking\",\n",
        "                     11:\"time\",\n",
        "                     12:\"DEATH_EVENT\"},inplace = True)\n",
        "\n"
      ],
      "id": "XZFfX5KiFAWL",
      "execution_count": null,
      "outputs": []
    },
    {
      "cell_type": "markdown",
      "metadata": {
        "id": "LIygPYDcaGOI"
      },
      "source": [
        "Removing unessary data"
      ],
      "id": "LIygPYDcaGOI"
    },
    {
      "cell_type": "code",
      "metadata": {
        "id": "B9JDkdt0FJmz"
      },
      "source": [
        "# Here we are only considering features age,anaemia,diabetes,high_blood_pressure,sex,somking,death_event\n",
        "# so removing other data\n",
        "del df[\"creatinine_phosphokinase\"],df[\"ejection_fraction\"],df[\"platelets\"],df[\"serum_creatinine\"],df[\"time\"],df[\"serum_sodium\"]"
      ],
      "id": "B9JDkdt0FJmz",
      "execution_count": null,
      "outputs": []
    },
    {
      "cell_type": "code",
      "metadata": {
        "id": "fR5lctiWFJm0"
      },
      "source": [
        "df.head()"
      ],
      "id": "fR5lctiWFJm0",
      "execution_count": null,
      "outputs": []
    },
    {
      "cell_type": "markdown",
      "metadata": {
        "id": "i2KdtTCtaMCR"
      },
      "source": [
        "## Separating data into dependent and independent variables"
      ],
      "id": "i2KdtTCtaMCR"
    },
    {
      "cell_type": "code",
      "metadata": {
        "id": "2adgM1ndFJm1"
      },
      "source": [
        "features = df.drop(\"DEATH_EVENT\",axis = 1) # Independent variables"
      ],
      "id": "2adgM1ndFJm1",
      "execution_count": null,
      "outputs": []
    },
    {
      "cell_type": "code",
      "metadata": {
        "id": "hlYJE2SNFJm1"
      },
      "source": [
        "labels = df[\"DEATH_EVENT\"] # Dependent variables"
      ],
      "id": "hlYJE2SNFJm1",
      "execution_count": null,
      "outputs": []
    },
    {
      "cell_type": "code",
      "metadata": {
        "id": "fUaXA6miFJm1"
      },
      "source": [
        "# importing train_test_split from sklearn\n",
        "from sklearn.model_selection import train_test_split\n",
        "# splitting the data\n",
        "x_train, x_test, y_train, y_test = train_test_split(features, labels, test_size = 0.2)"
      ],
      "id": "fUaXA6miFJm1",
      "execution_count": null,
      "outputs": []
    },
    {
      "cell_type": "markdown",
      "metadata": {
        "id": "R0qTyYeUaVbM"
      },
      "source": [
        "Creating the model"
      ],
      "id": "R0qTyYeUaVbM"
    },
    {
      "cell_type": "code",
      "metadata": {
        "id": "UHjAP7NqFQqG"
      },
      "source": [
        "model = tf.keras.Sequential()\n",
        "model.add(Dense(16,input_dim = len(x_train.axes[1]),activation = \"relu\"))\n",
        "model.add(Dense(4,activation  =\"relu\"))\n",
        "model.add(Dense(1,activation=\"sigmoid\")) "
      ],
      "id": "UHjAP7NqFQqG",
      "execution_count": null,
      "outputs": []
    },
    {
      "cell_type": "code",
      "metadata": {
        "id": "JlFH_EamFs81"
      },
      "source": [
        "model.summary()"
      ],
      "id": "JlFH_EamFs81",
      "execution_count": null,
      "outputs": []
    },
    {
      "cell_type": "markdown",
      "metadata": {
        "id": "gJcAD8ZDrG5A"
      },
      "source": [
        "Configuring and training the model"
      ],
      "id": "gJcAD8ZDrG5A"
    },
    {
      "cell_type": "code",
      "metadata": {
        "id": "rPKrpdTHGQbt"
      },
      "source": [
        "model.compile(loss=\"binary_crossentropy\",optimizer = \"rmsprop\",metrics=['accuracy'])"
      ],
      "id": "rPKrpdTHGQbt",
      "execution_count": null,
      "outputs": []
    },
    {
      "cell_type": "code",
      "metadata": {
        "id": "paIBjIo2Gfvs"
      },
      "source": [
        "model.fit(x = x_train,y=y_train,epochs = 1000,verbose=0)"
      ],
      "id": "paIBjIo2Gfvs",
      "execution_count": null,
      "outputs": []
    },
    {
      "cell_type": "markdown",
      "metadata": {
        "id": "-yTZ-8xvahZs"
      },
      "source": [
        "Converting the model to tfjs"
      ],
      "id": "-yTZ-8xvahZs"
    },
    {
      "cell_type": "code",
      "metadata": {
        "id": "2OyJtCtELB77"
      },
      "source": [
        "tfjs.converters.save_keras_model(model,'models')"
      ],
      "id": "2OyJtCtELB77",
      "execution_count": null,
      "outputs": []
    }
  ]
}