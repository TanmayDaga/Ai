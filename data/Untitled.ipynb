{
  "nbformat": 4,
  "nbformat_minor": 5,
  "metadata": {
    "interpreter": {
      "hash": "082e9a3bcad0a290d0001e938aa60b99250c6c2ef33a923c00b70f9826caf4b7"
    },
    "kernelspec": {
      "display_name": "Python 3",
      "language": "python",
      "name": "python3"
    },
    "language_info": {
      "codemirror_mode": {
        "name": "ipython",
        "version": 3
      },
      "file_extension": ".py",
      "mimetype": "text/x-python",
      "name": "python",
      "nbconvert_exporter": "python",
      "pygments_lexer": "ipython3",
      "version": "3.8.8"
    },
    "colab": {
      "name": "Untitled.ipynb",
      "provenance": [],
      "collapsed_sections": []
    }
  },
  "cells": [
    {
      "cell_type": "markdown",
      "metadata": {
        "id": "miSFsXN3Z6J8"
      },
      "source": [
        "## Heart Failure Prediction"
      ],
      "id": "miSFsXN3Z6J8"
    },
    {
      "cell_type": "markdown",
      "metadata": {
        "id": "Zuv9i4v7mmmr"
      },
      "source": [
        "Installing and importing necessary modules"
      ],
      "id": "Zuv9i4v7mmmr"
    },
    {
      "cell_type": "code",
      "metadata": {
        "id": "eIeZWMW-FJmx"
      },
      "source": [
        "!pip install tensorflowjs  pandas tensorflow numpy matplotlib"
      ],
      "id": "eIeZWMW-FJmx",
      "execution_count": null,
      "outputs": []
    },
    {
      "cell_type": "code",
      "metadata": {
        "id": "YLqDq-vSa5s7"
      },
      "source": [
        "import pandas as pd\n",
        "import numpy as np\n",
        "import tensorflow as tf\n",
        "from tensorflow.keras.layers import Dense\n",
        "import tensorflowjs as tfjs\n",
        "import matplotlib as mp"
      ],
      "id": "YLqDq-vSa5s7",
      "execution_count": 9,
      "outputs": []
    },
    {
      "cell_type": "markdown",
      "metadata": {
        "id": "RlROhxzpm_cb"
      },
      "source": [
        "Reading and arranging the data"
      ],
      "id": "RlROhxzpm_cb"
    },
    {
      "cell_type": "code",
      "metadata": {
        "id": "hqIj5RM1FAWJ"
      },
      "source": [
        "df = pd.read_csv('data.csv', header=None,skipinitialspace=True,skiprows=1)"
      ],
      "id": "hqIj5RM1FAWJ",
      "execution_count": 10,
      "outputs": []
    },
    {
      "cell_type": "code",
      "metadata": {
        "id": "XZFfX5KiFAWL"
      },
      "source": [
        "# Renaming the columns from numbers to meaningful names\n",
        "df.rename(columns = {0:\"age\", \n",
        "                     1:\"anaemia\", \n",
        "                     2:\"creatinine_phosphokinase\",\n",
        "                     3:\"diabetes\",\n",
        "                     4:\"ejection_fraction\",\n",
        "                     5:\"high_blood_pressure\",\n",
        "                     6:\"platelets\",\n",
        "                     7:\"serum_creatinine\",\n",
        "                     8:\"serum_sodium\",\n",
        "                     9:\"sex\",\n",
        "                     10:\"smoking\",\n",
        "                     11:\"time\",\n",
        "                     12:\"DEATH_EVENT\"},inplace = True)\n",
        "\n"
      ],
      "id": "XZFfX5KiFAWL",
      "execution_count": 11,
      "outputs": []
    },
    {
      "cell_type": "markdown",
      "metadata": {
        "id": "LIygPYDcaGOI"
      },
      "source": [
        "Removing unessary data"
      ],
      "id": "LIygPYDcaGOI"
    },
    {
      "cell_type": "code",
      "metadata": {
        "id": "B9JDkdt0FJmz"
      },
      "source": [
        "# Here we are only considering features age,anaemia,diabetes,high_blood_pressure,sex,somking,death_event\n",
        "# so removing other data\n",
        "del df[\"creatinine_phosphokinase\"],df[\"ejection_fraction\"],df[\"platelets\"],df[\"serum_creatinine\"],df[\"time\"],df[\"serum_sodium\"]"
      ],
      "id": "B9JDkdt0FJmz",
      "execution_count": 12,
      "outputs": []
    },
    {
      "cell_type": "code",
      "metadata": {
        "id": "fR5lctiWFJm0",
        "colab": {
          "base_uri": "https://localhost:8080/",
          "height": 204
        },
        "outputId": "4006ae52-93ac-4174-f2df-ba746a800bba"
      },
      "source": [
        "df.head()"
      ],
      "id": "fR5lctiWFJm0",
      "execution_count": 13,
      "outputs": [
        {
          "output_type": "execute_result",
          "data": {
            "text/html": [
              "<div>\n",
              "<style scoped>\n",
              "    .dataframe tbody tr th:only-of-type {\n",
              "        vertical-align: middle;\n",
              "    }\n",
              "\n",
              "    .dataframe tbody tr th {\n",
              "        vertical-align: top;\n",
              "    }\n",
              "\n",
              "    .dataframe thead th {\n",
              "        text-align: right;\n",
              "    }\n",
              "</style>\n",
              "<table border=\"1\" class=\"dataframe\">\n",
              "  <thead>\n",
              "    <tr style=\"text-align: right;\">\n",
              "      <th></th>\n",
              "      <th>age</th>\n",
              "      <th>anaemia</th>\n",
              "      <th>diabetes</th>\n",
              "      <th>high_blood_pressure</th>\n",
              "      <th>sex</th>\n",
              "      <th>smoking</th>\n",
              "      <th>DEATH_EVENT</th>\n",
              "    </tr>\n",
              "  </thead>\n",
              "  <tbody>\n",
              "    <tr>\n",
              "      <th>0</th>\n",
              "      <td>75.0</td>\n",
              "      <td>0</td>\n",
              "      <td>0</td>\n",
              "      <td>1</td>\n",
              "      <td>1</td>\n",
              "      <td>0</td>\n",
              "      <td>1</td>\n",
              "    </tr>\n",
              "    <tr>\n",
              "      <th>1</th>\n",
              "      <td>55.0</td>\n",
              "      <td>0</td>\n",
              "      <td>0</td>\n",
              "      <td>0</td>\n",
              "      <td>1</td>\n",
              "      <td>0</td>\n",
              "      <td>1</td>\n",
              "    </tr>\n",
              "    <tr>\n",
              "      <th>2</th>\n",
              "      <td>65.0</td>\n",
              "      <td>0</td>\n",
              "      <td>0</td>\n",
              "      <td>0</td>\n",
              "      <td>1</td>\n",
              "      <td>1</td>\n",
              "      <td>1</td>\n",
              "    </tr>\n",
              "    <tr>\n",
              "      <th>3</th>\n",
              "      <td>50.0</td>\n",
              "      <td>1</td>\n",
              "      <td>0</td>\n",
              "      <td>0</td>\n",
              "      <td>1</td>\n",
              "      <td>0</td>\n",
              "      <td>1</td>\n",
              "    </tr>\n",
              "    <tr>\n",
              "      <th>4</th>\n",
              "      <td>65.0</td>\n",
              "      <td>1</td>\n",
              "      <td>1</td>\n",
              "      <td>0</td>\n",
              "      <td>0</td>\n",
              "      <td>0</td>\n",
              "      <td>1</td>\n",
              "    </tr>\n",
              "  </tbody>\n",
              "</table>\n",
              "</div>"
            ],
            "text/plain": [
              "    age  anaemia  diabetes  high_blood_pressure  sex  smoking  DEATH_EVENT\n",
              "0  75.0        0         0                    1    1        0            1\n",
              "1  55.0        0         0                    0    1        0            1\n",
              "2  65.0        0         0                    0    1        1            1\n",
              "3  50.0        1         0                    0    1        0            1\n",
              "4  65.0        1         1                    0    0        0            1"
            ]
          },
          "metadata": {},
          "execution_count": 13
        }
      ]
    },
    {
      "cell_type": "markdown",
      "metadata": {
        "id": "i2KdtTCtaMCR"
      },
      "source": [
        "## Separating data into dependent and independent variables"
      ],
      "id": "i2KdtTCtaMCR"
    },
    {
      "cell_type": "code",
      "metadata": {
        "id": "2adgM1ndFJm1"
      },
      "source": [
        "features = df.drop(\"DEATH_EVENT\",axis = 1) # Independent variables"
      ],
      "id": "2adgM1ndFJm1",
      "execution_count": 14,
      "outputs": []
    },
    {
      "cell_type": "code",
      "metadata": {
        "id": "hlYJE2SNFJm1"
      },
      "source": [
        "labels = df[\"DEATH_EVENT\"] # Dependent variables"
      ],
      "id": "hlYJE2SNFJm1",
      "execution_count": 15,
      "outputs": []
    },
    {
      "cell_type": "code",
      "metadata": {
        "id": "fUaXA6miFJm1"
      },
      "source": [
        "# importing train_test_split from sklearn\n",
        "from sklearn.model_selection import train_test_split\n",
        "# splitting the data\n",
        "x_train, x_test, y_train, y_test = train_test_split(features, labels, test_size = 0.02)"
      ],
      "id": "fUaXA6miFJm1",
      "execution_count": 24,
      "outputs": []
    },
    {
      "cell_type": "markdown",
      "metadata": {
        "id": "R0qTyYeUaVbM"
      },
      "source": [
        "Creating the model"
      ],
      "id": "R0qTyYeUaVbM"
    },
    {
      "cell_type": "code",
      "metadata": {
        "id": "UHjAP7NqFQqG"
      },
      "source": [
        "model = tf.keras.Sequential()\n",
        "model.add(Dense(16,input_dim = len(x_train.axes[1]),activation = \"relu\"))\n",
        "model.add(Dense(4,activation  =\"relu\"))\n",
        "model.add(Dense(1,activation=\"sigmoid\")) "
      ],
      "id": "UHjAP7NqFQqG",
      "execution_count": 25,
      "outputs": []
    },
    {
      "cell_type": "code",
      "metadata": {
        "id": "JlFH_EamFs81",
        "colab": {
          "base_uri": "https://localhost:8080/"
        },
        "outputId": "292bf14a-c82e-47b7-f720-af2551b88282"
      },
      "source": [
        "model.summary()"
      ],
      "id": "JlFH_EamFs81",
      "execution_count": 18,
      "outputs": [
        {
          "output_type": "stream",
          "name": "stdout",
          "text": [
            "Model: \"sequential\"\n",
            "_________________________________________________________________\n",
            "Layer (type)                 Output Shape              Param #   \n",
            "=================================================================\n",
            "dense (Dense)                (None, 16)                112       \n",
            "_________________________________________________________________\n",
            "dense_1 (Dense)              (None, 4)                 68        \n",
            "_________________________________________________________________\n",
            "dense_2 (Dense)              (None, 1)                 5         \n",
            "=================================================================\n",
            "Total params: 185\n",
            "Trainable params: 185\n",
            "Non-trainable params: 0\n",
            "_________________________________________________________________\n"
          ]
        }
      ]
    },
    {
      "cell_type": "markdown",
      "metadata": {
        "id": "gJcAD8ZDrG5A"
      },
      "source": [
        "Configuring and training the model"
      ],
      "id": "gJcAD8ZDrG5A"
    },
    {
      "cell_type": "code",
      "metadata": {
        "id": "rPKrpdTHGQbt"
      },
      "source": [
        "model.compile(loss=\"binary_crossentropy\",optimizer = \"rmsprop\",metrics=['accuracy'])"
      ],
      "id": "rPKrpdTHGQbt",
      "execution_count": 26,
      "outputs": []
    },
    {
      "cell_type": "code",
      "metadata": {
        "id": "paIBjIo2Gfvs",
        "colab": {
          "base_uri": "https://localhost:8080/"
        },
        "outputId": "5dac9161-684c-4ca5-b6c0-b89c6bce40b7"
      },
      "source": [
        "model.fit(x = x_train,y=y_train,epochs = 1000,verbose=0)"
      ],
      "id": "paIBjIo2Gfvs",
      "execution_count": 27,
      "outputs": [
        {
          "output_type": "execute_result",
          "data": {
            "text/plain": [
              "<keras.callbacks.History at 0x7fa052834210>"
            ]
          },
          "metadata": {},
          "execution_count": 27
        }
      ]
    },
    {
      "cell_type": "markdown",
      "metadata": {
        "id": "-yTZ-8xvahZs"
      },
      "source": [
        "Converting the model to tfjs"
      ],
      "id": "-yTZ-8xvahZs"
    },
    {
      "cell_type": "code",
      "metadata": {
        "id": "2OyJtCtELB77"
      },
      "source": [
        "tfjs.converters.save_keras_model(model,'models')"
      ],
      "id": "2OyJtCtELB77",
      "execution_count": 21,
      "outputs": []
    },
    {
      "cell_type": "markdown",
      "metadata": {
        "id": "FTAfGq6-7ga2"
      },
      "source": [
        "## Graphs\n",
        "Plotting the graph on basis what model learned\n"
      ],
      "id": "FTAfGq6-7ga2"
    },
    {
      "cell_type": "code",
      "metadata": {
        "id": "YtZvORlG7jYb"
      },
      "source": [
        "#Anaemia = 0\n",
        "#Diabetes = 0\n",
        "#High bp = 0\n",
        "#Smoking = 0 \n",
        "#Gender = 1\n",
        "xAgeOff = []\n",
        "yPercentOff = []\n",
        "for i in range(40,96): # The data's max age is 95 whil minimum is 40\n",
        "  xAgeOff.append(i)\n",
        "  yPercentOff.append(model.predict([[i,0,0,0,1,0]])*100)\n",
        "\n",
        "yPercentOff = np.array(yPercentOff)\n",
        "yPercentOff = yPercentOff.ravel()"
      ],
      "id": "YtZvORlG7jYb",
      "execution_count": 57,
      "outputs": []
    },
    {
      "cell_type": "code",
      "metadata": {
        "id": "Z85HTcC29XwZ"
      },
      "source": [
        "#Anaemia = 1\n",
        "#Diabetes = 1\n",
        "#High bp = 1\n",
        "#Smoking = 1 \n",
        "#Gender = 1\n",
        "xAgeOn = []\n",
        "yPercentOn = []\n",
        "for i in range(40,96): # The data's max age is 95 whil minimum is 40\n",
        "  xAgeOn.append(i)\n",
        "  yPercentOn.append(model.predict([[i,1,1,1,1,1]])*100)\n",
        "\n",
        "yPercentOn = np.array(yPercentOn)\n",
        "yPercentOn = yPercentOn.ravel()"
      ],
      "id": "Z85HTcC29XwZ",
      "execution_count": 58,
      "outputs": []
    },
    {
      "cell_type": "code",
      "metadata": {
        "colab": {
          "base_uri": "https://localhost:8080/",
          "height": 296
        },
        "id": "rMtj4la4-P9g",
        "outputId": "5a00766a-df5e-466c-b5c2-b358ee3b3a9c"
      },
      "source": [
        "mp.pyplot.plot(xAgeOff,yPercentOff,label=\"With No Diseases\")\n",
        "mp.pyplot.plot(xAgeOn,yPercentOn,label=\"All Diseases\")\n",
        "\n",
        "mp.pyplot.xlabel(\"Age\")\n",
        "mp.pyplot.ylabel(\"Percent of Heart Failure\")\n",
        "mp.pyplot.legend()\n"
      ],
      "id": "rMtj4la4-P9g",
      "execution_count": 68,
      "outputs": [
        {
          "output_type": "execute_result",
          "data": {
            "text/plain": [
              "<matplotlib.legend.Legend at 0x7fa044ec6f10>"
            ]
          },
          "metadata": {},
          "execution_count": 68
        },
        {
          "output_type": "display_data",
          "data": {
            "image/png": "[encoded data removed]",
            "text/plain": [
              "<Figure size 432x288 with 1 Axes>"
            ]
          },
          "metadata": {
            "needs_background": "light"
          }
        }
      ]
    },
    {
      "cell_type": "markdown",
      "metadata": {
        "id": "EkLkMZAaCHoM"
      },
      "source": [
        "Individual effect of each feature\n"
      ],
      "id": "EkLkMZAaCHoM"
    },
    {
      "cell_type": "code",
      "metadata": {
        "id": "HUvAEM15-R7d"
      },
      "source": [
        "#Anaemia = 1\n",
        "#Diabetes = 0\n",
        "#High bp = 0\n",
        "#Smoking = 0 \n",
        "#Gender = 1\n",
        "xAgeOnlyAnaemia = []\n",
        "yPercentOnlyAnaemia = []\n",
        "for i in range(40,96): # The data's max age is 95 whil minimum is 40\n",
        "  xAgeOnlyAnaemia.append(i)\n",
        "  yPercentOnlyAnaemia.append(model.predict([[i,1,0,0,1,0]])*100)\n",
        "\n",
        "yPercentOnlyAnaemia = np.array(yPercentOnlyAnaemia)\n",
        "yPercentOnlyAnaemia = yPercentOnlyAnaemia.ravel()"
      ],
      "id": "HUvAEM15-R7d",
      "execution_count": 63,
      "outputs": []
    },
    {
      "cell_type": "code",
      "metadata": {
        "id": "pfZ89NBHAZvU"
      },
      "source": [
        "#Anaemia = 0\n",
        "#Diabetes = 1\n",
        "#High bp = 0\n",
        "#Smoking = 0 \n",
        "#Gender = 0\n",
        "xAgeOnlyDiabetes = []\n",
        "yPercentOnlyDiabetes = []\n",
        "for i in range(40,96): # The data's max age is 95 whil minimum is 40\n",
        "  xAgeOnlyDiabetes.append(i)\n",
        "  yPercentOnlyDiabetes.append(model.predict([[i,0,1,0,1,0]])*100)\n",
        "\n",
        "yPercentOnlyDiabetes = np.array(yPercentOnlyDiabetes)\n",
        "yPercentOnlyDiabetes = yPercentOnlyDiabetes.ravel()"
      ],
      "id": "pfZ89NBHAZvU",
      "execution_count": 64,
      "outputs": []
    },
    {
      "cell_type": "code",
      "metadata": {
        "id": "pfQcQv2HAzaI"
      },
      "source": [
        "#Anaemia = 0\n",
        "#Diabetes = 0\n",
        "#High bp = 1\n",
        "#Smoking = 0\n",
        "#Gender = 1\n",
        "xAgeOnlyBp = []\n",
        "yPercentOnlyBp = []\n",
        "for i in range(40,96): # The data's max age is 95 whil minimum is 40\n",
        "  xAgeOnlyBp.append(i)\n",
        "  yPercentOnlyBp.append(model.predict([[i,0,0,1,1,0]])*100)\n",
        "\n",
        "yPercentOnlyBp = np.array(yPercentOnlyBp)\n",
        "yPercentOnlyBp = yPercentOnlyBp.ravel()"
      ],
      "id": "pfQcQv2HAzaI",
      "execution_count": 65,
      "outputs": []
    },
    {
      "cell_type": "code",
      "metadata": {
        "id": "4qGhstNeBFfA"
      },
      "source": [
        "#Anaemia = 0\n",
        "#Diabetes = 0\n",
        "#High bp = 0\n",
        "#Smoking = 1\n",
        "#Gender = 1\n",
        "xAgeOnlySmoking = []\n",
        "yPercentOnlySmoking = []\n",
        "for i in range(40,96): # The data's max age is 95 whil minimum is 40\n",
        "  xAgeOnlySmoking.append(i)\n",
        "  yPercentOnlySmoking.append(model.predict([[i,0,0,0,1,1]])*100)\n",
        "\n",
        "yPercentOnlySmoking = np.array(yPercentOnlySmoking)\n",
        "yPercentOnlySmoking = yPercentOnlySmoking.ravel()"
      ],
      "id": "4qGhstNeBFfA",
      "execution_count": 66,
      "outputs": []
    },
    {
      "cell_type": "code",
      "metadata": {
        "colab": {
          "base_uri": "https://localhost:8080/",
          "height": 296
        },
        "id": "nwZdAn12BUhe",
        "outputId": "5db5006e-6900-486b-8f9c-87a64ed65d79"
      },
      "source": [
        "mp.pyplot.plot(xAgeOnlyAnaemia,yPercentOnlyAnaemia,label=\"Only Anaemia\")\n",
        "mp.pyplot.plot(xAgeOnlyDiabetes,yPercentOnlyDiabetes,label=\"Only Diabetes\")\n",
        "mp.pyplot.plot(xAgeOnlyBp,yPercentOnlyBp,label=\"Only Bp\")\n",
        "mp.pyplot.plot(xAgeOnlySmoking,yPercentOnlySmoking,label=\"Only Smoking\")\n",
        "mp.pyplot.legend()\n",
        "mp.pyplot.xlabel(\"Age\")\n",
        "mp.pyplot.ylabel(\"Percent of Heart Failure\")"
      ],
      "id": "nwZdAn12BUhe",
      "execution_count": 69,
      "outputs": [
        {
          "output_type": "execute_result",
          "data": {
            "text/plain": [
              "Text(0, 0.5, 'Percent of Heart Failure')"
            ]
          },
          "metadata": {},
          "execution_count": 69
        },
        {
          "output_type": "display_data",
          "data": {
            "image/png": "[encoded data removed]",
            "text/plain": [
              "<Figure size 432x288 with 1 Axes>"
            ]
          },
          "metadata": {
            "needs_background": "light"
          }
        }
      ]
    },
    {
      "cell_type": "code",
      "metadata": {
        "id": "lJWXnWk4B9Zl"
      },
      "source": [
        ""
      ],
      "id": "lJWXnWk4B9Zl",
      "execution_count": null,
      "outputs": []
    }
  ]
}