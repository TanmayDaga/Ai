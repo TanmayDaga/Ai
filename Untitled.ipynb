{
 "cells": [
  {
   "cell_type": "code",
   "execution_count": 2,
   "id": "choice-mayor",
   "metadata": {},
   "outputs": [],
   "source": [
    "import pandas as pd\n",
    "import numpy as np\n"
   ]
  },
  {
   "cell_type": "markdown",
   "id": "fabulous-apple",
   "metadata": {},
   "source": [
    "## Heart Failure Prediction"
   ]
  },
  {
   "cell_type": "code",
   "execution_count": 3,
   "id": "massive-latest",
   "metadata": {},
   "outputs": [],
   "source": [
    "# Reading the data from file\n",
    "df = pd.read_csv('data.csv', header=None,skipinitialspace=True,skiprows=1)"
   ]
  },
  {
   "cell_type": "code",
   "execution_count": 4,
   "id": "concrete-generic",
   "metadata": {},
   "outputs": [],
   "source": [
    "# Renaming the columns from numbers to meaningful names\n",
    "df.rename(columns = {0:\"age\", \n",
    "                     1:\"anaemia\", \n",
    "                     2:\"creatinine_phosphokinase\",\n",
    "                     3:\"diabetes\",\n",
    "                     4:\"ejection_fraction\",\n",
    "                     5:\"high_blood_pressure\",\n",
    "                     6:\"platelets\",\n",
    "                     7:\"serum_creatinine\",\n",
    "                     8:\"serum_sodium\",\n",
    "                     9:\"sex\",\n",
    "                     10:\"smoking\",\n",
    "                     11:\"DEATH_EVENT\"},inplace = True)\n",
    "\n"
   ]
  },
  {
   "cell_type": "markdown",
   "id": "welcome-cambodia",
   "metadata": {},
   "source": [
    "# Removing unessary data\n"
   ]
  },
  {
   "cell_type": "code",
   "execution_count": 5,
   "id": "finite-duration",
   "metadata": {},
   "outputs": [],
   "source": [
    "# Here we are only considering features age,anaemia,diabetes,high_blood_pressure,sex,somking,death_event\n",
    "# so removing other data\n",
    "del df[\"creatinine_phosphokinase\"],df[\"ejection_fraction\"],df[\"platelets\"],df[\"serum_creatinine\"],df[\"serum_sodium\"]"
   ]
  },
  {
   "cell_type": "code",
   "execution_count": 6,
   "id": "foster-romantic",
   "metadata": {},
   "outputs": [
    {
     "data": {
      "text/html": [
       "<div>\n",
       "<style scoped>\n",
       "    .dataframe tbody tr th:only-of-type {\n",
       "        vertical-align: middle;\n",
       "    }\n",
       "\n",
       "    .dataframe tbody tr th {\n",
       "        vertical-align: top;\n",
       "    }\n",
       "\n",
       "    .dataframe thead th {\n",
       "        text-align: right;\n",
       "    }\n",
       "</style>\n",
       "<table border=\"1\" class=\"dataframe\">\n",
       "  <thead>\n",
       "    <tr style=\"text-align: right;\">\n",
       "      <th></th>\n",
       "      <th>age</th>\n",
       "      <th>anaemia</th>\n",
       "      <th>diabetes</th>\n",
       "      <th>high_blood_pressure</th>\n",
       "      <th>sex</th>\n",
       "      <th>smoking</th>\n",
       "      <th>DEATH_EVENT</th>\n",
       "    </tr>\n",
       "  </thead>\n",
       "  <tbody>\n",
       "    <tr>\n",
       "      <th>0</th>\n",
       "      <td>75.0</td>\n",
       "      <td>0</td>\n",
       "      <td>0</td>\n",
       "      <td>1</td>\n",
       "      <td>1</td>\n",
       "      <td>0</td>\n",
       "      <td>1</td>\n",
       "    </tr>\n",
       "    <tr>\n",
       "      <th>1</th>\n",
       "      <td>55.0</td>\n",
       "      <td>0</td>\n",
       "      <td>0</td>\n",
       "      <td>0</td>\n",
       "      <td>1</td>\n",
       "      <td>0</td>\n",
       "      <td>1</td>\n",
       "    </tr>\n",
       "    <tr>\n",
       "      <th>2</th>\n",
       "      <td>65.0</td>\n",
       "      <td>0</td>\n",
       "      <td>0</td>\n",
       "      <td>0</td>\n",
       "      <td>1</td>\n",
       "      <td>1</td>\n",
       "      <td>1</td>\n",
       "    </tr>\n",
       "    <tr>\n",
       "      <th>3</th>\n",
       "      <td>50.0</td>\n",
       "      <td>1</td>\n",
       "      <td>0</td>\n",
       "      <td>0</td>\n",
       "      <td>1</td>\n",
       "      <td>0</td>\n",
       "      <td>1</td>\n",
       "    </tr>\n",
       "    <tr>\n",
       "      <th>4</th>\n",
       "      <td>65.0</td>\n",
       "      <td>1</td>\n",
       "      <td>1</td>\n",
       "      <td>0</td>\n",
       "      <td>0</td>\n",
       "      <td>0</td>\n",
       "      <td>1</td>\n",
       "    </tr>\n",
       "  </tbody>\n",
       "</table>\n",
       "</div>"
      ],
      "text/plain": [
       "    age  anaemia  diabetes  high_blood_pressure  sex  smoking  DEATH_EVENT\n",
       "0  75.0        0         0                    1    1        0            1\n",
       "1  55.0        0         0                    0    1        0            1\n",
       "2  65.0        0         0                    0    1        1            1\n",
       "3  50.0        1         0                    0    1        0            1\n",
       "4  65.0        1         1                    0    0        0            1"
      ]
     },
     "execution_count": 6,
     "metadata": {},
     "output_type": "execute_result"
    }
   ],
   "source": [
    "df.head()"
   ]
  },
  {
   "cell_type": "markdown",
   "id": "rapid-granny",
   "metadata": {},
   "source": [
    "## Separating data into dependent and independent variables"
   ]
  },
  {
   "cell_type": "code",
   "execution_count": 7,
   "id": "roman-diabetes",
   "metadata": {},
   "outputs": [],
   "source": [
    "features = df.drop(\"DEATH_EVENT\",axis = 1)"
   ]
  },
  {
   "cell_type": "code",
   "execution_count": 8,
   "id": "moving-oregon",
   "metadata": {},
   "outputs": [],
   "source": [
    "labels = df[\"DEATH_EVENT\"]\n"
   ]
  },
  {
   "cell_type": "markdown",
   "id": "intellectual-position",
   "metadata": {},
   "source": [
    "## Applying the model"
   ]
  },
  {
   "cell_type": "code",
   "execution_count": 9,
   "id": "interpreted-belfast",
   "metadata": {},
   "outputs": [],
   "source": [
    "# importing train_test_split from sklearn\n",
    "from sklearn.model_selection import train_test_split\n",
    "# splitting the data\n",
    "x_train, x_test, y_train, y_test = train_test_split(features, labels, test_size = 0.2)"
   ]
  },
  {
   "cell_type": "code",
   "execution_count": 14,
   "id": "toxic-benchmark",
   "metadata": {},
   "outputs": [
    {
     "data": {
      "text/plain": [
       "LogisticRegression()"
      ]
     },
     "execution_count": 14,
     "metadata": {},
     "output_type": "execute_result"
    }
   ],
   "source": [
    "from sklearn.linear_model import LogisticRegression\n",
    "LR = LogisticRegression()\n",
    "# fitting the training data\n",
    "LR.fit(x_train,y_train)\n",
    "\n"
   ]
  },
  {
   "cell_type": "code",
   "execution_count": 15,
   "id": "temporal-stuff",
   "metadata": {},
   "outputs": [],
   "source": [
    "y_predict = LR.predict(x_test)"
   ]
  },
  {
   "cell_type": "code",
   "execution_count": 12,
   "id": "alike-turkish",
   "metadata": {},
   "outputs": [
    {
     "data": {
      "text/plain": [
       "array([0, 0, 0, 1, 0, 0, 0, 0, 0, 1, 0, 0, 1, 0, 0, 0, 0, 0, 0, 0, 0, 1,\n",
       "       1, 0, 0, 1, 0, 0, 0, 0, 0, 0, 0, 0, 0, 0, 0, 1, 0, 0, 0, 0, 0, 0,\n",
       "       0, 0, 0, 0, 0, 0, 0, 0, 0, 0, 0, 0, 0, 0, 0, 0])"
      ]
     },
     "execution_count": 12,
     "metadata": {},
     "output_type": "execute_result"
    }
   ],
   "source": [
    "y_predict"
   ]
  },
  {
   "cell_type": "code",
   "execution_count": 16,
   "id": "confused-whole",
   "metadata": {},
   "outputs": [
    {
     "data": {
      "text/plain": [
       "0.6333333333333333"
      ]
     },
     "execution_count": 16,
     "metadata": {},
     "output_type": "execute_result"
    }
   ],
   "source": [
    "LR.score(x_test,y_test)"
   ]
  },
  {
   "cell_type": "code",
   "execution_count": null,
   "id": "demographic-council",
   "metadata": {},
   "outputs": [],
   "source": []
  },
  {
   "cell_type": "code",
   "execution_count": null,
   "id": "nominated-auditor",
   "metadata": {},
   "outputs": [],
   "source": [
    "from tensorflow.keras.models import Sequential\n",
    "tf_model = Sequential()\n",
    "\n",
    "tf_model.add(tf.keras.layers.Dense(1))"
   ]
  },
  {
   "cell_type": "code",
   "execution_count": 3,
   "id": "massive-panel",
   "metadata": {},
   "outputs": [
    {
     "name": "stdout",
     "output_type": "stream",
     "text": [
      "ERROR: The install method you used for conda--probably either `pip install conda`\r\n",
      "or `easy_install conda`--is not compatible with using conda as an application.\r\n",
      "If your intention is to install conda as a standalone application, currently\r\n",
      "supported install methods include the Anaconda installer and the miniconda\r\n",
      "installer.  You can download the miniconda installer from\r\n",
      "https://conda.io/miniconda.html.\r\n",
      "\r\n"
     ]
    }
   ],
   "source": [
    "!conda install nomkl"
   ]
  },
  {
   "cell_type": "code",
   "execution_count": null,
   "id": "reasonable-comment",
   "metadata": {},
   "outputs": [],
   "source": []
  }
 ],
 "metadata": {
  "interpreter": {
   "hash": "082e9a3bcad0a290d0001e938aa60b99250c6c2ef33a923c00b70f9826caf4b7"
  },
  "kernelspec": {
   "display_name": "Python 3",
   "language": "python",
   "name": "python3"
  },
  "language_info": {
   "codemirror_mode": {
    "name": "ipython",
    "version": 3
   },
   "file_extension": ".py",
   "mimetype": "text/x-python",
   "name": "python",
   "nbconvert_exporter": "python",
   "pygments_lexer": "ipython3",
   "version": "3.8.8"
  }
 },
 "nbformat": 4,
 "nbformat_minor": 5
}
