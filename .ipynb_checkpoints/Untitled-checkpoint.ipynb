{
 "cells": [
  {
   "cell_type": "markdown",
   "id": "exclusive-resort",
   "metadata": {},
   "source": [
    "## Heart Failure Prediction"
   ]
  },
  {
   "cell_type": "code",
   "execution_count": 2,
   "id": "friendly-factory",
   "metadata": {},
   "outputs": [],
   "source": [
    "import pandas as pd\n",
    "import numpy as np\n"
   ]
  },
  {
   "cell_type": "code",
   "execution_count": 54,
   "id": "realistic-watch",
   "metadata": {},
   "outputs": [],
   "source": [
    "# Reading the data from file\n",
    "df = pd.read_csv('data.csv', header=None,skipinitialspace=True,skiprows=1)"
   ]
  },
  {
   "cell_type": "code",
   "execution_count": 55,
   "id": "israeli-ceremony",
   "metadata": {},
   "outputs": [],
   "source": [
    "# Renaming the columns from numbers to meaningful names\n",
    "df.rename(columns = {0:\"age\", \n",
    "                     1:\"anaemia\", \n",
    "                     2:\"creatinine_phosphokinase\",\n",
    "                     3:\"diabetes\",\n",
    "                     4:\"ejection_fraction\",\n",
    "                     5:\"high_blood_pressure\",\n",
    "                     6:\"platelets\",\n",
    "                     7:\"serum_creatinine\",\n",
    "                     8:\"serum_sodium\",\n",
    "                     9:\"sex\",\n",
    "                     10:\"smoking\",\n",
    "                     11:\"DEATH_EVENT\"},inplace = True)\n",
    "\n"
   ]
  },
  {
   "cell_type": "markdown",
   "id": "handy-geology",
   "metadata": {},
   "source": [
    "# Removing unessary data\n"
   ]
  },
  {
   "cell_type": "code",
   "execution_count": 56,
   "id": "vanilla-thumb",
   "metadata": {},
   "outputs": [],
   "source": [
    "# Here we are only considering features age,anaemia,diabetes,high_blood_pressure,sex,somking,death_event\n",
    "# so removing other data\n",
    "del df[\"creatinine_phosphokinase\"],df[\"ejection_fraction\"],df[\"platelets\"],df[\"serum_creatinine\"],df[\"serum_sodium\"]"
   ]
  },
  {
   "cell_type": "code",
   "execution_count": 57,
   "id": "southeast-batman",
   "metadata": {},
   "outputs": [
    {
     "data": {
      "text/html": [
       "<div>\n",
       "<style scoped>\n",
       "    .dataframe tbody tr th:only-of-type {\n",
       "        vertical-align: middle;\n",
       "    }\n",
       "\n",
       "    .dataframe tbody tr th {\n",
       "        vertical-align: top;\n",
       "    }\n",
       "\n",
       "    .dataframe thead th {\n",
       "        text-align: right;\n",
       "    }\n",
       "</style>\n",
       "<table border=\"1\" class=\"dataframe\">\n",
       "  <thead>\n",
       "    <tr style=\"text-align: right;\">\n",
       "      <th></th>\n",
       "      <th>age</th>\n",
       "      <th>anaemia</th>\n",
       "      <th>diabetes</th>\n",
       "      <th>high_blood_pressure</th>\n",
       "      <th>sex</th>\n",
       "      <th>smoking</th>\n",
       "      <th>DEATH_EVENT</th>\n",
       "    </tr>\n",
       "  </thead>\n",
       "  <tbody>\n",
       "    <tr>\n",
       "      <th>0</th>\n",
       "      <td>75.0</td>\n",
       "      <td>0</td>\n",
       "      <td>0</td>\n",
       "      <td>1</td>\n",
       "      <td>1</td>\n",
       "      <td>0</td>\n",
       "      <td>1</td>\n",
       "    </tr>\n",
       "    <tr>\n",
       "      <th>1</th>\n",
       "      <td>55.0</td>\n",
       "      <td>0</td>\n",
       "      <td>0</td>\n",
       "      <td>0</td>\n",
       "      <td>1</td>\n",
       "      <td>0</td>\n",
       "      <td>1</td>\n",
       "    </tr>\n",
       "    <tr>\n",
       "      <th>2</th>\n",
       "      <td>65.0</td>\n",
       "      <td>0</td>\n",
       "      <td>0</td>\n",
       "      <td>0</td>\n",
       "      <td>1</td>\n",
       "      <td>1</td>\n",
       "      <td>1</td>\n",
       "    </tr>\n",
       "    <tr>\n",
       "      <th>3</th>\n",
       "      <td>50.0</td>\n",
       "      <td>1</td>\n",
       "      <td>0</td>\n",
       "      <td>0</td>\n",
       "      <td>1</td>\n",
       "      <td>0</td>\n",
       "      <td>1</td>\n",
       "    </tr>\n",
       "    <tr>\n",
       "      <th>4</th>\n",
       "      <td>65.0</td>\n",
       "      <td>1</td>\n",
       "      <td>1</td>\n",
       "      <td>0</td>\n",
       "      <td>0</td>\n",
       "      <td>0</td>\n",
       "      <td>1</td>\n",
       "    </tr>\n",
       "  </tbody>\n",
       "</table>\n",
       "</div>"
      ],
      "text/plain": [
       "    age  anaemia  diabetes  high_blood_pressure  sex  smoking  DEATH_EVENT\n",
       "0  75.0        0         0                    1    1        0            1\n",
       "1  55.0        0         0                    0    1        0            1\n",
       "2  65.0        0         0                    0    1        1            1\n",
       "3  50.0        1         0                    0    1        0            1\n",
       "4  65.0        1         1                    0    0        0            1"
      ]
     },
     "execution_count": 57,
     "metadata": {},
     "output_type": "execute_result"
    }
   ],
   "source": [
    "df.head()"
   ]
  },
  {
   "cell_type": "markdown",
   "id": "gothic-fraction",
   "metadata": {},
   "source": [
    "## Separating data into dependent and independent variables"
   ]
  },
  {
   "cell_type": "code",
   "execution_count": 79,
   "id": "encouraging-agent",
   "metadata": {},
   "outputs": [],
   "source": [
    "features = df.drop(\"DEATH_EVENT\",axis = 1)"
   ]
  },
  {
   "cell_type": "code",
   "execution_count": 80,
   "id": "graphic-oracle",
   "metadata": {},
   "outputs": [],
   "source": [
    "labels = df[\"DEATH_EVENT\"]\n"
   ]
  },
  {
   "cell_type": "markdown",
   "id": "chief-vampire",
   "metadata": {},
   "source": [
    "## Applying the model"
   ]
  },
  {
   "cell_type": "code",
   "execution_count": 81,
   "id": "ignored-western",
   "metadata": {},
   "outputs": [],
   "source": [
    "# importing train_test_split from sklearn\n",
    "from sklearn.model_selection import train_test_split\n",
    "# splitting the data\n",
    "x_train, x_test, y_train, y_test = train_test_split(features, labels, test_size = 0.2)"
   ]
  },
  {
   "cell_type": "code",
   "execution_count": 82,
   "id": "extraordinary-thumbnail",
   "metadata": {},
   "outputs": [
    {
     "data": {
      "text/plain": [
       "LogisticRegression()"
      ]
     },
     "execution_count": 82,
     "metadata": {},
     "output_type": "execute_result"
    }
   ],
   "source": [
    "from sklearn.linear_model import LogisticRegression\n",
    "LR = LogisticRegression()\n",
    "# fitting the training data\n",
    "LR.fit(x_train,y_train)\n"
   ]
  },
  {
   "cell_type": "code",
   "execution_count": 83,
   "id": "starting-mobility",
   "metadata": {},
   "outputs": [],
   "source": [
    "y_predict = LR.predict(x_test)"
   ]
  },
  {
   "cell_type": "code",
   "execution_count": 85,
   "id": "recognized-northwest",
   "metadata": {},
   "outputs": [
    {
     "data": {
      "text/plain": [
       "array([0, 0, 1, 0, 0, 0, 0, 1, 0, 0, 0, 0, 0, 0, 0, 0, 0, 0, 0, 0, 0, 1,\n",
       "       0, 0, 0, 0, 0, 0, 0, 0, 0, 0, 0, 0, 0, 0, 1, 0, 0, 0, 1, 0, 0, 0,\n",
       "       0, 1, 0, 0, 0, 0, 1, 0, 0, 0, 0, 1, 0, 0, 0, 0])"
      ]
     },
     "execution_count": 85,
     "metadata": {},
     "output_type": "execute_result"
    }
   ],
   "source": [
    "y_predict"
   ]
  },
  {
   "cell_type": "code",
   "execution_count": 91,
   "id": "italian-marble",
   "metadata": {},
   "outputs": [
    {
     "data": {
      "text/plain": [
       "0.7"
      ]
     },
     "execution_count": 91,
     "metadata": {},
     "output_type": "execute_result"
    }
   ],
   "source": [
    "LR.score(x_test,y_test)"
   ]
  }
 ],
 "metadata": {
  "kernelspec": {
   "display_name": "Python 3",
   "language": "python",
   "name": "python3"
  },
  "language_info": {
   "codemirror_mode": {
    "name": "ipython",
    "version": 3
   },
   "file_extension": ".py",
   "mimetype": "text/x-python",
   "name": "python",
   "nbconvert_exporter": "python",
   "pygments_lexer": "ipython3",
   "version": "3.8.8"
  }
 },
 "nbformat": 4,
 "nbformat_minor": 5
}
